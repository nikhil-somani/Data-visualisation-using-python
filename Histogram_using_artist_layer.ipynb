{
  "nbformat": 4,
  "nbformat_minor": 0,
  "metadata": {
    "colab": {
      "name": "Histogram_using_artist_layer.ipynb",
      "provenance": [],
      "collapsed_sections": [],
      "authorship_tag": "ABX9TyP2YI3kgTuXinseWhExCvFJ",
      "include_colab_link": true
    },
    "kernelspec": {
      "name": "python3",
      "display_name": "Python 3"
    },
    "language_info": {
      "name": "python"
    }
  },
  "cells": [
    {
      "cell_type": "markdown",
      "metadata": {
        "id": "view-in-github",
        "colab_type": "text"
      },
      "source": [
        "<a href=\"https://colab.research.google.com/github/nikhil-somani/Data-visualisation-using-python/blob/main/Histogram_using_artist_layer.ipynb\" target=\"_parent\"><img src=\"https://colab.research.google.com/assets/colab-badge.svg\" alt=\"Open In Colab\"/></a>"
      ]
    },
    {
      "cell_type": "markdown",
      "metadata": {
        "id": "LMAy-XpaVcq6"
      },
      "source": [
        "##Creation of Histogram for 10,000 random numbers using Artist layer of matplotlib \n"
      ]
    },
    {
      "cell_type": "code",
      "metadata": {
        "id": "52xxRmBaTPVf"
      },
      "source": [
        "#import the FigureCanvasAgg from backend, agg stands for anti grain geometry which is high performance library and produces attractive images.\n",
        "from matplotlib.backends.backend_agg import FigureCanvasAgg as figurecanvas\n",
        "#import figure artist\n",
        "from matplotlib.figure import Figure\n",
        "%matplotlib inline\n",
        "\n",
        "#create a object fig from imported figure\n",
        "fig = Figure()\n",
        "\n",
        "#create a object canvas and pass fig object as argument in it\n",
        "canvas = figurecanvas(fig)\n",
        "\n"
      ],
      "execution_count": null,
      "outputs": []
    },
    {
      "cell_type": "code",
      "metadata": {
        "id": "t_Iia49GX3ob"
      },
      "source": [
        "#Creation of 10,000 random number using numpy\n",
        "#import numpy\n",
        "import numpy as np\n",
        "#create random numbers\n",
        "x = np.random.randn(10000)\n",
        "\n",
        "#create axes artist\n",
        "#note that 111 is from the matlab convention which creates the grid with one row, one column and uses first cell of the grid for storing the new axes entries.\n",
        "ax = fig.add_subplot(111)\n",
        "\n",
        "#generate the histogram for 10000 numbers.\n",
        "#axes method hist is used to create the sequence of rectangle artists and adds them for axes container\n",
        "#, 100 represents the bins or rectangles\n",
        "ax.hist(x, 100)\n",
        "\n",
        "#add the title to the hitogram and display it\n",
        "ax.set_title(\"Normal distribution for random numbers\")\n",
        "\n",
        "#save the histogram created\n",
        "fig.savefig(\"matplothist.png\")"
      ],
      "execution_count": null,
      "outputs": []
    }
  ]
}