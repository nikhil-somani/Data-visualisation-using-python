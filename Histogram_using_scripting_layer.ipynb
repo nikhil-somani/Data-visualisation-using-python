{
  "nbformat": 4,
  "nbformat_minor": 0,
  "metadata": {
    "colab": {
      "name": "Histogram_using_scripting_layer.ipynb",
      "provenance": [],
      "collapsed_sections": [],
      "authorship_tag": "ABX9TyOOPWtWL7EOjDC7OkCmvlXI",
      "include_colab_link": true
    },
    "kernelspec": {
      "name": "python3",
      "display_name": "Python 3"
    },
    "language_info": {
      "name": "python"
    }
  },
  "cells": [
    {
      "cell_type": "markdown",
      "metadata": {
        "id": "view-in-github",
        "colab_type": "text"
      },
      "source": [
        "<a href=\"https://colab.research.google.com/github/nikhil-somani/Data-visualisation-using-python/blob/main/Histogram_using_scripting_layer.ipynb\" target=\"_parent\"><img src=\"https://colab.research.google.com/assets/colab-badge.svg\" alt=\"Open In Colab\"/></a>"
      ]
    },
    {
      "cell_type": "markdown",
      "metadata": {
        "id": "pu-h4PsfFtnA"
      },
      "source": [
        "## Histogram of 10,000 random number using scripting layer of matplotlib (pyplot)"
      ]
    },
    {
      "cell_type": "code",
      "metadata": {
        "colab": {
          "base_uri": "https://localhost:8080/",
          "height": 281
        },
        "id": "OG2p2v-Pdc5q",
        "outputId": "20859d8d-a9ca-4c16-fa84-c9699251d5ec"
      },
      "source": [
        "#import the matplotlib pyplot as plt (acronymn)\n",
        "import matplotlib.pyplot as plt\n",
        "#import numpy as np for random number operation\n",
        "import numpy as np\n",
        "\n",
        "#create object to store 1000 random number using random function\n",
        "x = np.random.randn(1000)\n",
        "\n",
        "#create histogram for the object and here 100 represent number of bins or rectangle boxes\n",
        "plt.hist(x, 100)\n",
        "\n",
        "#assign title to the plot\n",
        "plt.title(\"Normal distribution\")\n",
        "\n",
        "#you can save the plot using savefig with a name as argument\n",
        "plt.savefig(\"MatplotHist.png\")\n",
        "\n",
        "#display the plot using show() function\n",
        "plt.show()"
      ],
      "execution_count": 2,
      "outputs": [
        {
          "output_type": "display_data",
          "data": {
            "image/png": "[encoded data removed]",
            "text/plain": [
              "<Figure size 432x288 with 1 Axes>"
            ]
          },
          "metadata": {
            "tags": [],
            "needs_background": "light"
          }
        }
      ]
    }
  ]
}